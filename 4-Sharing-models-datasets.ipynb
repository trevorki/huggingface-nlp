{
 "cells": [
  {
   "cell_type": "markdown",
   "id": "d32b833a-7282-45dc-9682-41c1ed8def0f",
   "metadata": {},
   "source": [
    "# Sharing Models and Datasets\n",
    "Using Huggingface Hub"
   ]
  },
  {
   "cell_type": "code",
   "execution_count": 1,
   "id": "5b7f97ec-6116-4d38-8331-8010f8e68729",
   "metadata": {},
   "outputs": [
    {
     "name": "stdout",
     "output_type": "stream",
     "text": [
      "WARNING:tensorflow:From C:\\Users\\Trevor_Kinsey\\miniconda3\\envs\\hugging\\lib\\site-packages\\keras\\src\\losses.py:2976: The name tf.losses.sparse_softmax_cross_entropy is deprecated. Please use tf.compat.v1.losses.sparse_softmax_cross_entropy instead.\n",
      "\n",
      "WARNING:tensorflow:From C:\\Users\\Trevor_Kinsey\\miniconda3\\envs\\hugging\\lib\\site-packages\\keras\\src\\backend.py:873: The name tf.get_default_graph is deprecated. Please use tf.compat.v1.get_default_graph instead.\n",
      "\n"
     ]
    },
    {
     "name": "stderr",
     "output_type": "stream",
     "text": [
      "All PyTorch model weights were used when initializing TFCamembertForMaskedLM.\n",
      "\n",
      "All the weights of TFCamembertForMaskedLM were initialized from the PyTorch model.\n",
      "If your task is similar to the task the model of the checkpoint was trained on, you can already use TFCamembertForMaskedLM for predictions without further training.\n"
     ]
    }
   ],
   "source": [
    "from transformers import pipeline\n",
    "\n",
    "camembert_fill_mask = pipeline(\"fill-mask\", model=\"camembert-base\")\n",
    "results = camembert_fill_mask(\"Le camembert est <mask> :)\")"
   ]
  },
  {
   "cell_type": "code",
   "execution_count": 2,
   "id": "d0eac91b-e9e2-4cf2-98c9-54c80f442a89",
   "metadata": {},
   "outputs": [
    {
     "name": "stderr",
     "output_type": "stream",
     "text": [
      "All PyTorch model weights were used when initializing TFCamembertForMaskedLM.\n",
      "\n",
      "All the weights of TFCamembertForMaskedLM were initialized from the PyTorch model.\n",
      "If your task is similar to the task the model of the checkpoint was trained on, you can already use TFCamembertForMaskedLM for predictions without further training.\n"
     ]
    }
   ],
   "source": [
    "# or load model using AutoModel\n",
    "from transformers import AutoTokenizer, TFAutoModelForMaskedLM\n",
    "\n",
    "tokenizer = AutoTokenizer.from_pretrained(\"camembert-base\")\n",
    "model = TFAutoModelForMaskedLM.from_pretrained(\"camembert-base\")"
   ]
  },
  {
   "cell_type": "code",
   "execution_count": 3,
   "id": "cf825bf6-7bfd-4d63-b7ad-610aa8e13443",
   "metadata": {},
   "outputs": [
    {
     "data": {
      "application/vnd.jupyter.widget-view+json": {
       "model_id": "d883b7ca6cf3411f9655a752417e8f46",
       "version_major": 2,
       "version_minor": 0
      },
      "text/plain": [
       "VBox(children=(HTML(value='<center> <img\\nsrc=https://huggingface.co/front/assets/huggingface_logo-noborder.sv…"
      ]
     },
     "metadata": {},
     "output_type": "display_data"
    }
   ],
   "source": [
    "from huggingface_hub import notebook_login\n",
    "notebook_login()"
   ]
  },
  {
   "cell_type": "markdown",
   "id": "92bd996d-57b5-41fc-8eee-f1d3dcd811d0",
   "metadata": {},
   "source": [
    "## Callback to save model checkpoints during training\n",
    "the easiest way to upload it to the Hub is to pass along a PushToHubCallback when you call `model.fit()`"
   ]
  },
  {
   "cell_type": "code",
   "execution_count": 4,
   "id": "aaa9a6d2-221a-462e-8872-74fffe273528",
   "metadata": {},
   "outputs": [
    {
     "name": "stderr",
     "output_type": "stream",
     "text": [
      "C:\\Users\\Trevor_Kinsey\\miniconda3\\envs\\hugging\\lib\\site-packages\\huggingface_hub\\utils\\_deprecation.py:131: FutureWarning: 'Repository' (from 'huggingface_hub.repository') is deprecated and will be removed from version '1.0'. Please prefer the http-based alternatives instead. Given its large adoption in legacy code, the complete removal is only planned on next major release.\n",
      "For more details, please read https://huggingface.co/docs/huggingface_hub/concepts/git_vs_http.\n",
      "  warnings.warn(warning_message, FutureWarning)\n",
      "Cloning https://huggingface.co/Roverto/bert-finetuned-mrpc into local empty directory.\n"
     ]
    }
   ],
   "source": [
    "from transformers import PushToHubCallback\n",
    "\n",
    "callback = PushToHubCallback(\n",
    "    output_dir=\"bert-finetuned-mrpc\",  #location in repo\n",
    "    save_strategy=\"epoch\", \n",
    "    tokenizer=tokenizer\n",
    ")"
   ]
  },
  {
   "cell_type": "markdown",
   "id": "b53ea96e-80d2-4e67-bcb6-7e08e1a63d79",
   "metadata": {},
   "source": [
    "# Push model directly\n",
    "This will create the repo if it doesn't exist, then push files to it\n",
    "\n",
    "https://huggingface.co/user-or-organization/dummy-model"
   ]
  },
  {
   "cell_type": "code",
   "execution_count": 5,
   "id": "f6101cb9-b0b5-41ae-bd92-d27c57e67d02",
   "metadata": {},
   "outputs": [],
   "source": [
    "# repo_name = \"dummy-model\"\n",
    "# model.push_to_hub(repo_name)\n",
    "# tokenizer.push_to_hub(repo_name)"
   ]
  },
  {
   "cell_type": "markdown",
   "id": "20a8222c-e2a4-4202-8392-f406795e7f90",
   "metadata": {},
   "source": [
    "# Using the `huggingface_hub` Python Library\n",
    "This will require your API token in the cache, so log in as before\n",
    "```python\n",
    "from huggingface_hub import notebook_login\n",
    "notebook_login()\n",
    "```\n",
    "\n",
    "or \n",
    "\n",
    "```bash\n",
    "huggingface-cli login\n",
    "```\n"
   ]
  },
  {
   "cell_type": "code",
   "execution_count": null,
   "id": "f8bb5bf0-9333-4434-99c7-5785984017e1",
   "metadata": {},
   "outputs": [],
   "source": [
    "# from huggingface_hub import (\n",
    "#     # User management\n",
    "#     login,\n",
    "#     logout,\n",
    "#     whoami,\n",
    "\n",
    "#     # Repository creation and management\n",
    "#     create_repo,\n",
    "#     delete_repo,\n",
    "#     update_repo_visibility,\n",
    "\n",
    "#     # And some methods to retrieve/change information about the content\n",
    "#     list_models,\n",
    "#     list_datasets,\n",
    "#     list_metrics,\n",
    "#     list_repo_files,\n",
    "#     upload_file,\n",
    "#     delete_file,\n",
    "# )"
   ]
  },
  {
   "cell_type": "markdown",
   "id": "f079baed-c73b-44d5-8d77-2bf0ec73c0ca",
   "metadata": {},
   "source": [
    "from huggingface_hub import create_repo\n",
    "create_repo(\"dummy-model\", \n",
    "            private = True,\n",
    "            repo_type = \"model\", # or \"dataset\" or \"space\"\n",
    "           )"
   ]
  },
  {
   "cell_type": "code",
   "execution_count": null,
   "id": "b796c390-b025-4b9c-9267-7c0378101814",
   "metadata": {},
   "outputs": [],
   "source": [
    "# from huggingface_hub import upload_file\n",
    "\n",
    "# upload_file(\n",
    "#     \"<path_to_file>/config.json\",\n",
    "#     path_in_repo=\"config.json\",\n",
    "#     repo_id=\"<namespace>/dummy-model\",\n",
    "# )"
   ]
  },
  {
   "cell_type": "markdown",
   "id": "b8fdef55-9e0b-42ac-88cf-9be24c6c833b",
   "metadata": {},
   "source": [
    "# Using the Repository class\n",
    "Allows git-like acces to repo\n",
    "\n",
    "```python\n",
    "from huggingface_hub import Repository\n",
    "\n",
    "repo = Repository(\"<path_to_dummy_folder>\", clone_from=\"<namespace>/dummy-model\")\n",
    "repo.git_pull\n",
    "\n",
    "# do some work\n",
    "model.save_pretrained(\"<path_to_dummy_folder>\")\n",
    "tokenizer.save_pretrained(\"<path_to_dummy_folder>\")\n",
    "()\n",
    "repo.git_add()\n",
    "repo.git_commit(\"Add model and tokenizer\")\n",
    "repo.git_push()\n",
    "```"
   ]
  },
  {
   "cell_type": "markdown",
   "id": "0a1531ea-f93e-4d73-8163-685d32cdbb0f",
   "metadata": {},
   "source": [
    "# Git approach\n",
    "Use just like a normal git repo at the command line.\n",
    "\n",
    "```bash\n",
    "git clone https://huggingface.co/<namespace>/<your-model-id>\n",
    "```\n",
    "pt_tag()"
   ]
  },
  {
   "cell_type": "code",
   "execution_count": null,
   "id": "fd3aaac7-9daa-4f95-9e00-6c6e89123fec",
   "metadata": {},
   "outputs": [],
   "source": [
    "repo_id"
   ]
  },
  {
   "cell_type": "code",
   "execution_count": null,
   "id": "9f28c549-11a0-4b4a-84e5-49820efe38db",
   "metadata": {},
   "outputs": [],
   "source": []
  }
 ],
 "metadata": {
  "kernelspec": {
   "display_name": "Python [conda env:hugging]",
   "language": "python",
   "name": "conda-env-hugging-py"
  },
  "language_info": {
   "codemirror_mode": {
    "name": "ipython",
    "version": 3
   },
   "file_extension": ".py",
   "mimetype": "text/x-python",
   "name": "python",
   "nbconvert_exporter": "python",
   "pygments_lexer": "ipython3",
   "version": "3.10.13"
  }
 },
 "nbformat": 4,
 "nbformat_minor": 5
}
